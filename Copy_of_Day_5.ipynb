{
  "nbformat": 4,
  "nbformat_minor": 0,
  "metadata": {
    "colab": {
      "name": "Copy of Day 5.ipynb",
      "provenance": [],
      "collapsed_sections": [],
      "authorship_tag": "ABX9TyNnVwyCW/Di6ATyYaNT9omp",
      "include_colab_link": true
    },
    "kernelspec": {
      "name": "python3",
      "display_name": "Python 3"
    },
    "language_info": {
      "name": "python"
    }
  },
  "cells": [
    {
      "cell_type": "markdown",
      "metadata": {
        "id": "view-in-github",
        "colab_type": "text"
      },
      "source": [
        "<a href=\"https://colab.research.google.com/github/syed0221/Python_fundamentals_b58_/blob/main/Copy_of_Day_5.ipynb\" target=\"_parent\"><img src=\"https://colab.research.google.com/assets/colab-badge.svg\" alt=\"Open In Colab\"/></a>"
      ]
    },
    {
      "cell_type": "code",
      "execution_count": null,
      "metadata": {
        "id": "6VUnApGRbLSp"
      },
      "outputs": [],
      "source": [
        "contitution with list datatype"
      ]
    },
    {
      "cell_type": "markdown",
      "source": [
        "**Organising the list datatype :**"
      ],
      "metadata": {
        "id": "5vGu_qsibw4N"
      }
    },
    {
      "cell_type": "code",
      "source": [
        ""
      ],
      "metadata": {
        "id": "ewysbyPAbzKj"
      },
      "execution_count": null,
      "outputs": []
    },
    {
      "cell_type": "code",
      "source": [
        "cars=['maruti','bmw','audi','benz','volvo','suzuki']\n",
        "print(cars)"
      ],
      "metadata": {
        "colab": {
          "base_uri": "https://localhost:8080/"
        },
        "id": "gdxbfkQqbNAy",
        "outputId": "8c6e7abc-2b6b-4597-ba7d-ece45c6047b0"
      },
      "execution_count": null,
      "outputs": [
        {
          "output_type": "stream",
          "name": "stdout",
          "text": [
            "['maruti', 'bmw', 'audi', 'benz', 'volvo', 'suzuki']\n"
          ]
        }
      ]
    },
    {
      "cell_type": "code",
      "source": [
        "# req : i want to print list in alphabetical order"
      ],
      "metadata": {
        "id": "V6I4hR23bNG_"
      },
      "execution_count": null,
      "outputs": []
    },
    {
      "cell_type": "markdown",
      "source": [
        "**1.Temporary approach** : we will be able to get the original order of the list decleared.\\\n",
        "**2.permanent aaproach** : change will be applied permanently and will not be able to get original order back."
      ],
      "metadata": {
        "id": "UhKMDpykf0x8"
      }
    },
    {
      "cell_type": "code",
      "source": [
        " #1.sorted"
      ],
      "metadata": {
        "id": "yE8AGp4IbNNP"
      },
      "execution_count": null,
      "outputs": []
    },
    {
      "cell_type": "code",
      "source": [
        "print(sorted)   # A  -  Z"
      ],
      "metadata": {
        "colab": {
          "base_uri": "https://localhost:8080/"
        },
        "id": "5PbpGM_BbNT4",
        "outputId": "87d1eb4b-b8ba-42e0-92b5-2438dfd29d90"
      },
      "execution_count": null,
      "outputs": [
        {
          "output_type": "stream",
          "name": "stdout",
          "text": [
            "['audi', 'benz', 'bmw', 'maruti', 'suzuki', 'volvo']\n"
          ]
        }
      ]
    },
    {
      "cell_type": "code",
      "source": [
        "print(cars)  #original list still exist with sorted method"
      ],
      "metadata": {
        "colab": {
          "base_uri": "https://localhost:8080/"
        },
        "id": "PIGg7l3AbNdE",
        "outputId": "d20b7bd8-8f86-48ad-891b-409f15d931df"
      },
      "execution_count": null,
      "outputs": [
        {
          "output_type": "stream",
          "name": "stdout",
          "text": [
            "['maruti', 'bmw', 'audi', 'benz', 'volvo', 'suzuki']\n"
          ]
        }
      ]
    },
    {
      "cell_type": "code",
      "source": [
        "#2.sort method"
      ],
      "metadata": {
        "id": "D5pE-w0UbOTC"
      },
      "execution_count": null,
      "outputs": []
    },
    {
      "cell_type": "code",
      "source": [
        "cars.sort()       # permanent change "
      ],
      "metadata": {
        "id": "bnQ00lSQbOZU"
      },
      "execution_count": null,
      "outputs": []
    },
    {
      "cell_type": "code",
      "source": [
        ""
      ],
      "metadata": {
        "id": "k62Z9tAEkuCG"
      },
      "execution_count": null,
      "outputs": []
    },
    {
      "cell_type": "code",
      "source": [
        "print(cars)"
      ],
      "metadata": {
        "colab": {
          "base_uri": "https://localhost:8080/"
        },
        "id": "ZJf3WdO1jjP8",
        "outputId": "dfe1d0b7-acb8-4074-e24b-cf4d478fb46d"
      },
      "execution_count": null,
      "outputs": [
        {
          "output_type": "stream",
          "name": "stdout",
          "text": [
            "['audi', 'benz', 'bmw', 'maruti', 'suzuki', 'volvo']\n"
          ]
        }
      ]
    },
    {
      "cell_type": "code",
      "source": [
        ""
      ],
      "metadata": {
        "id": "Zp7BO4aIkuI-"
      },
      "execution_count": null,
      "outputs": []
    },
    {
      "cell_type": "code",
      "source": [
        "# req : how to print the list in reverse order.."
      ],
      "metadata": {
        "id": "Vnm0w3bfjjV5"
      },
      "execution_count": null,
      "outputs": []
    },
    {
      "cell_type": "code",
      "source": [
        "print(cars)"
      ],
      "metadata": {
        "colab": {
          "base_uri": "https://localhost:8080/"
        },
        "id": "NRpKj7pclV1l",
        "outputId": "3f601a32-b847-4252-83cb-89ab014a106b"
      },
      "execution_count": null,
      "outputs": [
        {
          "output_type": "stream",
          "name": "stdout",
          "text": [
            "['audi', 'benz', 'bmw', 'maruti', 'suzuki', 'volvo']\n"
          ]
        }
      ]
    },
    {
      "cell_type": "code",
      "source": [
        "cars.reverse()"
      ],
      "metadata": {
        "id": "Plrb6-oklV-9"
      },
      "execution_count": null,
      "outputs": []
    },
    {
      "cell_type": "code",
      "source": [
        "print(cars)"
      ],
      "metadata": {
        "colab": {
          "base_uri": "https://localhost:8080/"
        },
        "id": "C1XNm0EAlWrt",
        "outputId": "d3afebcc-4c80-4245-f787-b0dd4620f37f"
      },
      "execution_count": null,
      "outputs": [
        {
          "output_type": "stream",
          "name": "stdout",
          "text": [
            "['volvo', 'suzuki', 'maruti', 'bmw', 'benz', 'audi']\n"
          ]
        }
      ]
    },
    {
      "cell_type": "code",
      "source": [
        ""
      ],
      "metadata": {
        "id": "Msy4peNmlW_T"
      },
      "execution_count": null,
      "outputs": []
    },
    {
      "cell_type": "code",
      "source": [
        "# req : how to count the number of elements that are present in list..?"
      ],
      "metadata": {
        "id": "gLqxAM9RmqTU"
      },
      "execution_count": null,
      "outputs": []
    },
    {
      "cell_type": "code",
      "source": [
        "len(cars)"
      ],
      "metadata": {
        "colab": {
          "base_uri": "https://localhost:8080/"
        },
        "id": "2azR7sWumqaP",
        "outputId": "36b2c27a-e7ef-4e39-99fe-de9736859bdb"
      },
      "execution_count": null,
      "outputs": [
        {
          "output_type": "execute_result",
          "data": {
            "text/plain": [
              "6"
            ]
          },
          "metadata": {},
          "execution_count": 25
        }
      ]
    },
    {
      "cell_type": "code",
      "source": [
        ""
      ],
      "metadata": {
        "id": "tiaqzOSPo_Dn"
      },
      "execution_count": null,
      "outputs": []
    },
    {
      "cell_type": "markdown",
      "source": [
        " ** slicing  of list datatype :**"
      ],
      "metadata": {
        "id": "1eUchhKTqHOr"
      }
    },
    {
      "cell_type": "code",
      "source": [
        "students=['kartik','david','naveen','ramsingh','sravani','pavitra','noorain','iqra']"
      ],
      "metadata": {
        "id": "44tCdBNmnWTq"
      },
      "execution_count": null,
      "outputs": []
    },
    {
      "cell_type": "code",
      "source": [
        "# Genral syntax of slicing"
      ],
      "metadata": {
        "id": "Sb4XtG4-nWbY"
      },
      "execution_count": null,
      "outputs": []
    },
    {
      "cell_type": "markdown",
      "source": [
        "**[startvalue : stopvalue: step count]** \\\n",
        "Note : **stopvalue is always exclusive,to include it we have to increment in index by +1**"
      ],
      "metadata": {
        "id": "4BnMHogTo8J4"
      }
    },
    {
      "cell_type": "code",
      "source": [
        "# req : i want to include kartik and david in one slice"
      ],
      "metadata": {
        "id": "2UCrYkXvnWox"
      },
      "execution_count": null,
      "outputs": []
    },
    {
      "cell_type": "code",
      "source": [
        "print(students[0:2])"
      ],
      "metadata": {
        "colab": {
          "base_uri": "https://localhost:8080/"
        },
        "id": "pz358qc_s4gq",
        "outputId": "4883e9e2-52e0-4fe9-9ea3-e6be9d6ad016"
      },
      "execution_count": null,
      "outputs": [
        {
          "output_type": "stream",
          "name": "stdout",
          "text": [
            "['kartik', 'david']\n"
          ]
        }
      ]
    },
    {
      "cell_type": "code",
      "source": [
        "print(students[0:3])   #??"
      ],
      "metadata": {
        "colab": {
          "base_uri": "https://localhost:8080/"
        },
        "id": "o6I4XVDMs4p-",
        "outputId": "936766d3-faa8-4c28-aee6-a8efa41de354"
      },
      "execution_count": null,
      "outputs": [
        {
          "output_type": "stream",
          "name": "stdout",
          "text": [
            "['kartik', 'david', 'naveen']\n"
          ]
        }
      ]
    },
    {
      "cell_type": "code",
      "source": [
        "print(students[0:7:2])     # ???"
      ],
      "metadata": {
        "colab": {
          "base_uri": "https://localhost:8080/"
        },
        "id": "eTSqHKsjs401",
        "outputId": "9ed9377c-9a76-4eec-ac77-307ee7c3d70f"
      },
      "execution_count": null,
      "outputs": [
        {
          "output_type": "stream",
          "name": "stdout",
          "text": [
            "['kartik', 'naveen', 'sravani', 'noorain']\n"
          ]
        }
      ]
    },
    {
      "cell_type": "code",
      "source": [
        ""
      ],
      "metadata": {
        "id": "bzBVZKGXs49H"
      },
      "execution_count": null,
      "outputs": []
    },
    {
      "cell_type": "code",
      "source": [
        ""
      ],
      "metadata": {
        "id": "DxV7lfjls5Gj"
      },
      "execution_count": null,
      "outputs": []
    }
  ]
}