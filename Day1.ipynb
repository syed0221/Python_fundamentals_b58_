{
  "nbformat": 4,
  "nbformat_minor": 0,
  "metadata": {
    "colab": {
      "name": "Day1.ipynb",
      "provenance": [],
      "collapsed_sections": [],
      "include_colab_link": true
    },
    "kernelspec": {
      "name": "python3",
      "display_name": "Python 3"
    },
    "language_info": {
      "name": "python"
    }
  },
  "cells": [
    {
      "cell_type": "markdown",
      "metadata": {
        "id": "view-in-github",
        "colab_type": "text"
      },
      "source": [
        "<a href=\"https://colab.research.google.com/github/syed0221/Python_fundamentals_b58_/blob/main/Day1.ipynb\" target=\"_parent\"><img src=\"https://colab.research.google.com/assets/colab-badge.svg\" alt=\"Open In Colab\"/></a>"
      ]
    },
    {
      "cell_type": "markdown",
      "source": [
        "# **Ptython Fundamentals b_58**\n",
        "**1. Syed Rizwan Mahmood**\\\n",
        "**2. syed0221@gmail.com**\\\n",
        "Sales & Marketing professional with eight years of experience having no perior coding expertise.To inhance my skills i am jioning these sessions of python fundamentals."
      ],
      "metadata": {
        "id": "7k50QMUhfYXu"
      }
    },
    {
      "cell_type": "code",
      "source": [
        "full_name='syed rizwan mahmood'\n",
        "print(full_name.title())"
      ],
      "metadata": {
        "id": "XQ3Gdz7z0W65",
        "colab": {
          "base_uri": "https://localhost:8080/"
        },
        "outputId": "e7de34a9-a8ba-4bd0-8855-2b3c22fc528f"
      },
      "execution_count": null,
      "outputs": [
        {
          "output_type": "stream",
          "name": "stdout",
          "text": [
            "Syed Rizwan Mahmood\n"
          ]
        }
      ]
    },
    {
      "cell_type": "code",
      "source": [
        "email='syed02211@gmail.com'\n",
        "print(email)"
      ],
      "metadata": {
        "colab": {
          "base_uri": "https://localhost:8080/"
        },
        "id": "7RGvLs5F4q_V",
        "outputId": "c5bc77ce-00a0-42d3-9a3c-b82f21443deb"
      },
      "execution_count": null,
      "outputs": [
        {
          "output_type": "stream",
          "name": "stdout",
          "text": [
            "syed02211@gmail.com\n"
          ]
        }
      ]
    },
    {
      "cell_type": "code",
      "source": [
        "about_myself=\"Sales & Marketing professional with eight years of experience having no perior coding expertise.\\nTo inhance my skills i am jioning these sessions of python fundamentals.\"\n",
        "print(about_myself)"
      ],
      "metadata": {
        "colab": {
          "base_uri": "https://localhost:8080/"
        },
        "id": "6D30tbzv9m9V",
        "outputId": "1186fcf5-c3d8-4c6e-ee35-9f2984891e98"
      },
      "execution_count": null,
      "outputs": [
        {
          "output_type": "stream",
          "name": "stdout",
          "text": [
            "Sales & Marketing professional with eight years of experience having no perior coding expertise.\n",
            "To inhance my skills i am jioning these sessions of python fundamentals.\n"
          ]
        }
      ]
    },
    {
      "cell_type": "code",
      "source": [
        ""
      ],
      "metadata": {
        "id": "B0P_DlUFAEOZ"
      },
      "execution_count": null,
      "outputs": []
    }
  ]
}