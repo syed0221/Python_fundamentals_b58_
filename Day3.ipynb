{
  "nbformat": 4,
  "nbformat_minor": 0,
  "metadata": {
    "colab": {
      "name": "Untitled1.ipynb",
      "provenance": [],
      "collapsed_sections": [],
      "authorship_tag": "ABX9TyP0UKXbv2Ff0Rx+slJuTYv2",
      "include_colab_link": true
    },
    "kernelspec": {
      "name": "python3",
      "display_name": "Python 3"
    },
    "language_info": {
      "name": "python"
    }
  },
  "cells": [
    {
      "cell_type": "markdown",
      "metadata": {
        "id": "view-in-github",
        "colab_type": "text"
      },
      "source": [
        "<a href=\"https://colab.research.google.com/github/syed0221/Python_fundamentals_b58_/blob/main/Day3.ipynb\" target=\"_parent\"><img src=\"https://colab.research.google.com/assets/colab-badge.svg\" alt=\"Open In Colab\"/></a>"
      ]
    },
    {
      "cell_type": "markdown",
      "source": [
        "# Introduction to data type in python :\n",
        "**1.string----->str\\\n",
        "2.number----->integer(int) and floats (float)==>decimal\\\n",
        "3.list---->list\\\n",
        "4.tuple---->tuple\\\n",
        "5.dictionary--->dict**\n"
      ],
      "metadata": {
        "id": "soN6h1mYQiMh"
      }
    },
    {
      "cell_type": "markdown",
      "source": [
        "**Classification of data type** \\\n",
        "Two types\\\n",
        "1.Mutable datatypes====>that can be edit or alter===flexible\\\n",
        "2.Immutable datatype====>that cannot be edit or alter===>fixed"
      ],
      "metadata": {
        "id": "9svs6NsLUuI-"
      }
    },
    {
      "cell_type": "markdown",
      "source": [
        "**Introduction to string datatypes **\\\n",
        "A STRING IS NOTHING BUT A SERIES OF CHARACTERS DECLARED IN QUOTES \\\n",
        "It is classified as an immutable datatype.\\\n",
        "**How to declare or define the string======> 3 possible approaches**\\\n",
        "1.single quote\\\n",
        "2.double quote\\\n",
        "3.triple quote "
      ],
      "metadata": {
        "id": "kd4Ogz1DW2HN"
      }
    },
    {
      "cell_type": "code",
      "source": [
        "name = 'any'     # single quote\n",
        "print(name)"
      ],
      "metadata": {
        "colab": {
          "base_uri": "https://localhost:8080/"
        },
        "id": "4WOUp1e7bWI1",
        "outputId": "9312db86-a29a-4ef7-e9dd-1157ca198ce6"
      },
      "execution_count": null,
      "outputs": [
        {
          "output_type": "stream",
          "name": "stdout",
          "text": [
            "any\n"
          ]
        }
      ]
    },
    {
      "cell_type": "code",
      "source": [
        "name=\"any\"    #double quote\n",
        "print(name)"
      ],
      "metadata": {
        "colab": {
          "base_uri": "https://localhost:8080/"
        },
        "id": "KFFD1aWhb2QX",
        "outputId": "d56cf2ca-6bf3-4731-a9d5-acf7e25f9145"
      },
      "execution_count": null,
      "outputs": [
        {
          "output_type": "stream",
          "name": "stdout",
          "text": [
            "any\n"
          ]
        }
      ]
    },
    {
      "cell_type": "code",
      "source": [
        "name=\"\"\"any\"\"\"   #triple quote\n",
        "print(name)"
      ],
      "metadata": {
        "colab": {
          "base_uri": "https://localhost:8080/"
        },
        "id": "Pup_j96WcWzO",
        "outputId": "4534715a-7a12-4067-a502-0e5aace99e12"
      },
      "execution_count": null,
      "outputs": [
        {
          "output_type": "stream",
          "name": "stdout",
          "text": [
            "any\n"
          ]
        }
      ]
    },
    {
      "cell_type": "markdown",
      "source": [
        "**Note : # is used for commenting the lines in python**"
      ],
      "metadata": {
        "id": "cU2Ps_lBcV16"
      }
    },
    {
      "cell_type": "markdown",
      "source": [
        "**continution to string** :"
      ],
      "metadata": {
        "id": "MUWDybdW4K7W"
      }
    },
    {
      "cell_type": "code",
      "source": [
        "full_name = 'david miller'\n",
        "\n",
        "print (full_name)"
      ],
      "metadata": {
        "colab": {
          "base_uri": "https://localhost:8080/"
        },
        "id": "keR_8eeV4qe6",
        "outputId": "eed6bf19-e2c9-487d-9af2-8b0b17a10e8d"
      },
      "execution_count": null,
      "outputs": [
        {
          "output_type": "stream",
          "name": "stdout",
          "text": [
            "david miller\n"
          ]
        }
      ]
    },
    {
      "cell_type": "code",
      "source": [
        "print(full_name.title())"
      ],
      "metadata": {
        "colab": {
          "base_uri": "https://localhost:8080/"
        },
        "id": "wZq2yGJL5ZCg",
        "outputId": "79234828-5d3a-4f85-e03f-c70a9f0b3b0a"
      },
      "execution_count": null,
      "outputs": [
        {
          "output_type": "stream",
          "name": "stdout",
          "text": [
            "David Miller\n"
          ]
        }
      ]
    },
    {
      "cell_type": "code",
      "source": [
        "print(full_name.upper())\n"
      ],
      "metadata": {
        "colab": {
          "base_uri": "https://localhost:8080/"
        },
        "id": "QihYAHYs6us_",
        "outputId": "ae287bc8-bf44-4ece-b32b-bf117c7a7e94"
      },
      "execution_count": null,
      "outputs": [
        {
          "output_type": "stream",
          "name": "stdout",
          "text": [
            "DAVID MILLER\n"
          ]
        }
      ]
    },
    {
      "cell_type": "code",
      "source": [
        "print(full_name.lower())"
      ],
      "metadata": {
        "colab": {
          "base_uri": "https://localhost:8080/"
        },
        "id": "oWFFeCNS7Vdh",
        "outputId": "678c2a1b-db61-449c-b7c2-8e5371493151"
      },
      "execution_count": null,
      "outputs": [
        {
          "output_type": "stream",
          "name": "stdout",
          "text": [
            "david miller\n"
          ]
        }
      ]
    },
    {
      "cell_type": "markdown",
      "source": [
        "# **Introduction to f string**\n"
      ],
      "metadata": {
        "id": "YEQRLDob8G8W"
      }
    },
    {
      "cell_type": "markdown",
      "source": [
        "**f \" custom words {place holder 1} {place holder 2}----{placeholders}**"
      ],
      "metadata": {
        "id": "OGg2E5t_BUBK"
      }
    },
    {
      "cell_type": "code",
      "source": [
        "frist_name = 'david'\n",
        "last_name = 'miller'"
      ],
      "metadata": {
        "id": "uqPf4GCdBSCS"
      },
      "execution_count": null,
      "outputs": []
    },
    {
      "cell_type": "markdown",
      "source": [
        "req : i want to get full name"
      ],
      "metadata": {
        "id": "2qLpUuXSFGWH"
      }
    },
    {
      "cell_type": "code",
      "source": [
        "full_name = f\"{frist_name} {last_name}\"\n",
        "print(full_name)"
      ],
      "metadata": {
        "colab": {
          "base_uri": "https://localhost:8080/"
        },
        "id": "i2-WVXQA7rJ6",
        "outputId": "28104a05-fb04-4532-b44a-b333e536f44f"
      },
      "execution_count": null,
      "outputs": [
        {
          "output_type": "stream",
          "name": "stdout",
          "text": [
            "david miller\n"
          ]
        }
      ]
    },
    {
      "cell_type": "code",
      "source": [
        "print(full_name.title())"
      ],
      "metadata": {
        "colab": {
          "base_uri": "https://localhost:8080/"
        },
        "id": "fB3SnFf3HJBW",
        "outputId": "7f26d57d-617e-4742-e9f4-db542b7e0fc4"
      },
      "execution_count": null,
      "outputs": [
        {
          "output_type": "stream",
          "name": "stdout",
          "text": [
            "David Miller\n"
          ]
        }
      ]
    },
    {
      "cell_type": "code",
      "source": [
        "message = f\"keep it up,{frist_name} {last_name}\"\n",
        "print(message.title())"
      ],
      "metadata": {
        "colab": {
          "base_uri": "https://localhost:8080/"
        },
        "id": "xbw3SwncHtFE",
        "outputId": "0b2dac27-4db3-4823-a951-778319ea39a7"
      },
      "execution_count": null,
      "outputs": [
        {
          "output_type": "stream",
          "name": "stdout",
          "text": [
            "Keep It Up,David Miller\n"
          ]
        }
      ]
    },
    {
      "cell_type": "markdown",
      "source": [
        "Adding whitespaces to string :"
      ],
      "metadata": {
        "id": "W5jw6hzYGQhU"
      }
    },
    {
      "cell_type": "code",
      "source": [
        "print('favarite_programing_language:pythonjavac++reactjs')"
      ],
      "metadata": {
        "id": "e0KJcgVqI5Ue",
        "colab": {
          "base_uri": "https://localhost:8080/"
        },
        "outputId": "fb87381d-eb24-406b-9985-5be946cdb4d3"
      },
      "execution_count": null,
      "outputs": [
        {
          "output_type": "stream",
          "name": "stdout",
          "text": [
            "favarite_programing_language:pythonjavac++reactjs\n"
          ]
        }
      ]
    },
    {
      "cell_type": "code",
      "source": [
        "print('favarite_programming_languages:\\npython\\nc\\njava\\nc++\\nreactjs')"
      ],
      "metadata": {
        "colab": {
          "base_uri": "https://localhost:8080/"
        },
        "id": "FCynmxj6IZo6",
        "outputId": "498aa750-5bd7-4031-f6d4-54f26e28a005"
      },
      "execution_count": null,
      "outputs": [
        {
          "output_type": "stream",
          "name": "stdout",
          "text": [
            "favarite_programming_languages:\n",
            "python\n",
            "c\n",
            "java\n",
            "c++\n",
            "reactjs\n"
          ]
        }
      ]
    },
    {
      "cell_type": "markdown",
      "source": [
        "**\\n-----it is known as new line delimiter.**"
      ],
      "metadata": {
        "id": "tCU9UwLmKSoC"
      }
    },
    {
      "cell_type": "code",
      "source": [
        "print('favarite_programming_languages:\\n\\tpython\\n\\tc\\n\\tjava\\n\\tc++\\n\\treactjs')"
      ],
      "metadata": {
        "colab": {
          "base_uri": "https://localhost:8080/"
        },
        "id": "yoED0vT2J0jF",
        "outputId": "a70f7101-d1f6-4bcb-d60c-7fab351a11df"
      },
      "execution_count": null,
      "outputs": [
        {
          "output_type": "stream",
          "name": "stdout",
          "text": [
            "favarite_programming_languages:\n",
            "\tpython\n",
            "\tc\n",
            "\tjava\n",
            "\tc++\n",
            "\treactjs\n"
          ]
        }
      ]
    },
    {
      "cell_type": "markdown",
      "source": [
        "**\\t----->it is known as tab delimiter**"
      ],
      "metadata": {
        "id": "LOpVN9b4LgRw"
      }
    },
    {
      "cell_type": "code",
      "source": [
        ""
      ],
      "metadata": {
        "id": "FF06s-IDMOxm"
      },
      "execution_count": null,
      "outputs": []
    },
    {
      "cell_type": "markdown",
      "source": [
        "**Removing whitespaces from the strings :**"
      ],
      "metadata": {
        "id": "_s3vBFLiMV0m"
      }
    },
    {
      "cell_type": "code",
      "source": [
        "name='python'\n",
        "print(name)"
      ],
      "metadata": {
        "colab": {
          "base_uri": "https://localhost:8080/"
        },
        "id": "K0KOaVr9MRRc",
        "outputId": "54dcbb7f-4ebf-4304-c169-4a6b5d1c4b55"
      },
      "execution_count": null,
      "outputs": [
        {
          "output_type": "stream",
          "name": "stdout",
          "text": [
            "python\n"
          ]
        }
      ]
    },
    {
      "cell_type": "code",
      "source": [
        "name1='  python' \n",
        "print(name1)"
      ],
      "metadata": {
        "colab": {
          "base_uri": "https://localhost:8080/"
        },
        "id": "ueMjMYkfNJA3",
        "outputId": "f14fbc10-894c-484e-894e-36792895e2b3"
      },
      "execution_count": null,
      "outputs": [
        {
          "output_type": "stream",
          "name": "stdout",
          "text": [
            "  python\n"
          ]
        }
      ]
    },
    {
      "cell_type": "code",
      "source": [
        "name2='python  '\n",
        "print(name2)"
      ],
      "metadata": {
        "colab": {
          "base_uri": "https://localhost:8080/"
        },
        "id": "fh3cdlg7NmZ3",
        "outputId": "fec386b3-24ae-4744-becd-cb249b21ddf6"
      },
      "execution_count": null,
      "outputs": [
        {
          "output_type": "stream",
          "name": "stdout",
          "text": [
            "python  \n"
          ]
        }
      ]
    },
    {
      "cell_type": "code",
      "source": [
        "name3= '   python '\n",
        "print(name3)"
      ],
      "metadata": {
        "colab": {
          "base_uri": "https://localhost:8080/"
        },
        "id": "JDcNq13aN98_",
        "outputId": "f04fc7f7-d77b-4c9d-9057-e8f98e25911a"
      },
      "execution_count": null,
      "outputs": [
        {
          "output_type": "stream",
          "name": "stdout",
          "text": [
            "   python \n"
          ]
        }
      ]
    },
    {
      "cell_type": "code",
      "source": [
        "name1.lstrip()"
      ],
      "metadata": {
        "colab": {
          "base_uri": "https://localhost:8080/",
          "height": 35
        },
        "id": "gFxYPrHDOqF3",
        "outputId": "810b5151-693b-443e-9031-289cc5b89817"
      },
      "execution_count": null,
      "outputs": [
        {
          "output_type": "execute_result",
          "data": {
            "text/plain": [
              "'python'"
            ],
            "application/vnd.google.colaboratory.intrinsic+json": {
              "type": "string"
            }
          },
          "metadata": {},
          "execution_count": 11
        }
      ]
    },
    {
      "cell_type": "code",
      "source": [
        "name2.rstrip()"
      ],
      "metadata": {
        "colab": {
          "base_uri": "https://localhost:8080/",
          "height": 35
        },
        "id": "3-FUi0hPPkcX",
        "outputId": "b51c79a6-2432-4265-b2ba-1fa023431b8b"
      },
      "execution_count": null,
      "outputs": [
        {
          "output_type": "execute_result",
          "data": {
            "text/plain": [
              "'python'"
            ],
            "application/vnd.google.colaboratory.intrinsic+json": {
              "type": "string"
            }
          },
          "metadata": {},
          "execution_count": 12
        }
      ]
    },
    {
      "cell_type": "code",
      "source": [
        "name3.lstrip()"
      ],
      "metadata": {
        "colab": {
          "base_uri": "https://localhost:8080/",
          "height": 35
        },
        "id": "Jj3O08JBPr6U",
        "outputId": "59d7a64e-8ef6-41d4-8570-482d7f3a353c"
      },
      "execution_count": null,
      "outputs": [
        {
          "output_type": "execute_result",
          "data": {
            "text/plain": [
              "'python '"
            ],
            "application/vnd.google.colaboratory.intrinsic+json": {
              "type": "string"
            }
          },
          "metadata": {},
          "execution_count": 13
        }
      ]
    },
    {
      "cell_type": "code",
      "source": [
        ""
      ],
      "metadata": {
        "id": "ium20s33PzYp"
      },
      "execution_count": null,
      "outputs": []
    }
  ]
}