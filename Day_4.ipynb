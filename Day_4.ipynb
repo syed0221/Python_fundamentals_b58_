{
  "nbformat": 4,
  "nbformat_minor": 0,
  "metadata": {
    "colab": {
      "provenance": [],
      "authorship_tag": "ABX9TyNHm6yM4su5lZmCbp00Qony",
      "include_colab_link": true
    },
    "kernelspec": {
      "name": "python3",
      "display_name": "Python 3"
    },
    "language_info": {
      "name": "python"
    }
  },
  "cells": [
    {
      "cell_type": "markdown",
      "metadata": {
        "id": "view-in-github",
        "colab_type": "text"
      },
      "source": [
        "<a href=\"https://colab.research.google.com/github/syed0221/Python_fundamentals_b58_/blob/main/Day_4.ipynb\" target=\"_parent\"><img src=\"https://colab.research.google.com/assets/colab-badge.svg\" alt=\"Open In Colab\"/></a>"
      ]
    },
    {
      "cell_type": "markdown",
      "source": [
        "**Introduction to list data type :**"
      ],
      "metadata": {
        "id": "wA8fMIqLic_U"
      }
    },
    {
      "cell_type": "markdown",
      "source": [
        "**Defination :** A list is a collection of items declared in a particular order.\\\n",
        "**Classification** : It is classified as mutable datatype (flexible===which we can edit or alter)\\\n",
        "**List is declare by======>[ ]**"
      ],
      "metadata": {
        "id": "oos1MtNdiw1Z"
      }
    },
    {
      "cell_type": "code",
      "source": [
        "students=['ema','sunny','sandeep','adil','rehma','raj','santoesh','priya']\n",
        "print(students)"
      ],
      "metadata": {
        "colab": {
          "base_uri": "https://localhost:8080/"
        },
        "id": "CftUzgx4oNeJ",
        "outputId": "e8ebcf44-bfff-4b02-af40-babdc1e66fcf"
      },
      "execution_count": null,
      "outputs": [
        {
          "output_type": "stream",
          "name": "stdout",
          "text": [
            "['ema', 'sunny', 'sandeep', 'adil', 'rehma', 'raj', 'santoesh', 'priya']\n"
          ]
        }
      ]
    },
    {
      "cell_type": "code",
      "source": [
        "type(students)"
      ],
      "metadata": {
        "colab": {
          "base_uri": "https://localhost:8080/"
        },
        "id": "fuP-aBhZoNj7",
        "outputId": "5690a48c-db64-4ca0-b0bf-a6cd607ae459"
      },
      "execution_count": null,
      "outputs": [
        {
          "output_type": "execute_result",
          "data": {
            "text/plain": [
              "list"
            ]
          },
          "metadata": {},
          "execution_count": 2
        }
      ]
    },
    {
      "cell_type": "code",
      "source": [
        "# how to access above element in the list....?"
      ],
      "metadata": {
        "id": "dVvoR0_8oNuR"
      },
      "execution_count": null,
      "outputs": []
    },
    {
      "cell_type": "code",
      "source": [],
      "metadata": {
        "id": "6k9YL1knoN-R"
      },
      "execution_count": null,
      "outputs": []
    },
    {
      "cell_type": "markdown",
      "source": [
        "**Introduction to indexing : 0,1,2.....**"
      ],
      "metadata": {
        "id": "_1gjphkprCbZ"
      }
    },
    {
      "cell_type": "code",
      "source": [
        "students=['ema','sunny','sandeep','adil','rehma','raj','santoesh','priya']  # 0,1,2,3,4,5,6,7"
      ],
      "metadata": {
        "id": "MFl4pKJIoODk"
      },
      "execution_count": null,
      "outputs": []
    },
    {
      "cell_type": "code",
      "source": [
        "print(students)"
      ],
      "metadata": {
        "colab": {
          "base_uri": "https://localhost:8080/"
        },
        "id": "PlQNQCYqoOcv",
        "outputId": "b4f08db3-a17d-4cf7-fb7a-f11ac1ae8c75"
      },
      "execution_count": null,
      "outputs": [
        {
          "output_type": "stream",
          "name": "stdout",
          "text": [
            "['ema', 'sunny', 'sandeep', 'adil', 'rehma', 'raj', 'santoesh', 'priya']\n"
          ]
        }
      ]
    },
    {
      "cell_type": "code",
      "source": [
        "# i want to access adil name from above list....?"
      ],
      "metadata": {
        "id": "xymp4z2IoOlA"
      },
      "execution_count": null,
      "outputs": []
    },
    {
      "cell_type": "code",
      "source": [
        "print(students[3])"
      ],
      "metadata": {
        "colab": {
          "base_uri": "https://localhost:8080/"
        },
        "id": "a0rlE_T6tDK9",
        "outputId": "766390fc-0ad6-41d0-d48a-9c814ba88fec"
      },
      "execution_count": null,
      "outputs": [
        {
          "output_type": "stream",
          "name": "stdout",
          "text": [
            "adil\n"
          ]
        }
      ]
    },
    {
      "cell_type": "code",
      "source": [
        "print(students[3].title())"
      ],
      "metadata": {
        "colab": {
          "base_uri": "https://localhost:8080/"
        },
        "id": "tV6sgOOotDU9",
        "outputId": "7dc38e4c-e4b6-44a8-b1ab-f797774e4008"
      },
      "execution_count": null,
      "outputs": [
        {
          "output_type": "stream",
          "name": "stdout",
          "text": [
            "Adil\n"
          ]
        }
      ]
    },
    {
      "cell_type": "code",
      "source": [
        "# please access priya name from the  above list"
      ],
      "metadata": {
        "id": "hZ6lH-rGtDdA"
      },
      "execution_count": null,
      "outputs": []
    },
    {
      "cell_type": "code",
      "source": [
        "print(students[7].title())"
      ],
      "metadata": {
        "colab": {
          "base_uri": "https://localhost:8080/"
        },
        "id": "3Y4sLxnctD8w",
        "outputId": "c100578e-46dc-43fd-a924-d56b115af73e"
      },
      "execution_count": null,
      "outputs": [
        {
          "output_type": "stream",
          "name": "stdout",
          "text": [
            "Priya\n"
          ]
        }
      ]
    },
    {
      "cell_type": "markdown",
      "source": [
        "**1.How to add new elements to list of datatype-\\\n",
        "2.How to modify the elements to the list datatype-\\\n",
        "3.How to delete the elements from the list of datatype-**\n",
        "  "
      ],
      "metadata": {
        "id": "6okpDdbUvU5F"
      }
    },
    {
      "cell_type": "code",
      "source": [
        "# i want add naveen name to the above list.."
      ],
      "metadata": {
        "id": "zwm1FQw7tEDx"
      },
      "execution_count": null,
      "outputs": []
    },
    {
      "cell_type": "code",
      "source": [
        "students.append('naveen')"
      ],
      "metadata": {
        "id": "SUkzPzxnxaF_"
      },
      "execution_count": null,
      "outputs": []
    },
    {
      "cell_type": "code",
      "source": [
        "print(students)"
      ],
      "metadata": {
        "colab": {
          "base_uri": "https://localhost:8080/"
        },
        "id": "w2Xri2OJxaL3",
        "outputId": "19b6e389-de28-4956-fd28-f6c87132b92e"
      },
      "execution_count": null,
      "outputs": [
        {
          "output_type": "stream",
          "name": "stdout",
          "text": [
            "['ema', 'sunny', 'sandeep', 'adil', 'rehma', 'raj', 'santoesh', 'priya', 'naveen']\n"
          ]
        }
      ]
    },
    {
      "cell_type": "code",
      "source": [
        "# add name of shah in this list"
      ],
      "metadata": {
        "id": "y9aErsuWxaRI"
      },
      "execution_count": null,
      "outputs": []
    },
    {
      "cell_type": "code",
      "source": [
        "students.append('shah')"
      ],
      "metadata": {
        "id": "YT1IoMcGxat0"
      },
      "execution_count": null,
      "outputs": []
    },
    {
      "cell_type": "code",
      "source": [
        "print(students)"
      ],
      "metadata": {
        "colab": {
          "base_uri": "https://localhost:8080/"
        },
        "id": "Fqi133fCxazK",
        "outputId": "faa83c87-6af3-4897-ac8c-13f1387db8e1"
      },
      "execution_count": null,
      "outputs": [
        {
          "output_type": "stream",
          "name": "stdout",
          "text": [
            "['ema', 'sunny', 'sandeep', 'adil', 'rehma', 'raj', 'santoesh', 'priya', 'naveen', 'shah']\n"
          ]
        }
      ]
    },
    {
      "cell_type": "code",
      "source": [
        "# shift to shah from last to 4th index      # Please explain this"
      ],
      "metadata": {
        "id": "vF4EXeCNzZZT"
      },
      "execution_count": null,
      "outputs": []
    },
    {
      "cell_type": "code",
      "source": [
        "\n",
        "names = ['ema', 'sunny', 'sandeep', 'adil', 'rehma', 'raj', 'santoesh', 'priya', 'naveen', 'shah']\n",
        "\n",
        "# Remove 'shah' from the last position\n",
        "shah = names.pop()\n",
        "\n",
        "# Insert 'shah' at the 4th index\n",
        "names.insert(4, shah)\n",
        "\n",
        "print(names)"
      ],
      "metadata": {
        "colab": {
          "base_uri": "https://localhost:8080/"
        },
        "id": "PQX-OnizSnBD",
        "outputId": "3aa68b6d-8dba-476e-fe3c-f9e407cc1b25"
      },
      "execution_count": null,
      "outputs": [
        {
          "output_type": "stream",
          "name": "stdout",
          "text": [
            "['ema', 'sunny', 'sandeep', 'adil', 'shah', 'rehma', 'raj', 'santoesh', 'priya', 'naveen']\n"
          ]
        }
      ]
    },
    {
      "cell_type": "code",
      "source": [
        "print(students[6])"
      ],
      "metadata": {
        "colab": {
          "base_uri": "https://localhost:8080/"
        },
        "id": "j85f6PYEzZfB",
        "outputId": "a1af0058-c782-435c-9bce-7cb84596901b"
      },
      "execution_count": null,
      "outputs": [
        {
          "output_type": "stream",
          "name": "stdout",
          "text": [
            "rehma\n"
          ]
        }
      ]
    },
    {
      "cell_type": "code",
      "source": [
        "print(students)"
      ],
      "metadata": {
        "colab": {
          "base_uri": "https://localhost:8080/"
        },
        "id": "h_oTLP6ZzZj7",
        "outputId": "b6686e07-3ac9-4fbe-ccd2-929945a9309f"
      },
      "execution_count": null,
      "outputs": [
        {
          "output_type": "stream",
          "name": "stdout",
          "text": [
            "['ema', 'sunny', 'sandeep', 'adil', 'shah', 'shah', 'rehma', 'raj', 'santoesh', 'priya', 'naveen', 'shah']\n"
          ]
        }
      ]
    },
    {
      "cell_type": "code",
      "source": [
        "print(students[4])"
      ],
      "metadata": {
        "colab": {
          "base_uri": "https://localhost:8080/"
        },
        "id": "UTlklqQS0yCG",
        "outputId": "5a33f545-3f88-47fe-eeb9-2a237822be40"
      },
      "execution_count": null,
      "outputs": [
        {
          "output_type": "stream",
          "name": "stdout",
          "text": [
            "shah\n"
          ]
        }
      ]
    },
    {
      "cell_type": "code",
      "source": [
        "print(students[4].title())"
      ],
      "metadata": {
        "colab": {
          "base_uri": "https://localhost:8080/"
        },
        "id": "Uudsv9kz0yPc",
        "outputId": "9b122cf4-8829-4b53-e386-61d77510d75a"
      },
      "execution_count": null,
      "outputs": [
        {
          "output_type": "stream",
          "name": "stdout",
          "text": [
            "Shah\n"
          ]
        }
      ]
    },
    {
      "cell_type": "markdown",
      "source": [
        "**Interview question** ===>> What is the difference between **append & insert** method in a list datatype....?"
      ],
      "metadata": {
        "id": "bV-pVS942w6F"
      }
    },
    {
      "cell_type": "code",
      "source": [
        "print(students)"
      ],
      "metadata": {
        "colab": {
          "base_uri": "https://localhost:8080/"
        },
        "id": "RVKT4L5f31D9",
        "outputId": "18a8d825-dc16-46ab-f1a0-a1c5d46b3f83"
      },
      "execution_count": null,
      "outputs": [
        {
          "output_type": "stream",
          "name": "stdout",
          "text": [
            "['ema', 'sunny', 'sandeep', 'adil', 'shah', 'shah', 'rehma', 'raj', 'santoesh', 'priya', 'naveen', 'shah']\n"
          ]
        }
      ]
    },
    {
      "cell_type": "code",
      "source": [
        "del students[4]"
      ],
      "metadata": {
        "id": "ZUcpOUmv31J8"
      },
      "execution_count": null,
      "outputs": []
    },
    {
      "cell_type": "code",
      "source": [
        "print(students)"
      ],
      "metadata": {
        "colab": {
          "base_uri": "https://localhost:8080/"
        },
        "id": "p8H0Zh0t31vM",
        "outputId": "38362aa1-d301-47e0-8353-3eff5bb943d6"
      },
      "execution_count": null,
      "outputs": [
        {
          "output_type": "stream",
          "name": "stdout",
          "text": [
            "['ema', 'sunny', 'sandeep', 'adil', 'shah', 'rehma', 'raj', 'santoesh', 'priya', 'naveen', 'shah']\n"
          ]
        }
      ]
    },
    {
      "cell_type": "code",
      "source": [
        "# How to modify the elements to list datatype....?"
      ],
      "metadata": {
        "id": "l53UGc1U317e"
      },
      "execution_count": null,
      "outputs": []
    },
    {
      "cell_type": "code",
      "source": [
        "print(students)"
      ],
      "metadata": {
        "colab": {
          "base_uri": "https://localhost:8080/"
        },
        "id": "ZsBCmZUO32aH",
        "outputId": "690c38d9-d3c8-4b03-a1a6-381f71c1e79b"
      },
      "execution_count": null,
      "outputs": [
        {
          "output_type": "stream",
          "name": "stdout",
          "text": [
            "['ema', 'sunny', 'sandeep', 'adil', 'raj', 'naveen', 'shah']\n"
          ]
        }
      ]
    },
    {
      "cell_type": "code",
      "source": [
        "# modify sunny to sunder"
      ],
      "metadata": {
        "id": "OBXKE9ZC32e7"
      },
      "execution_count": null,
      "outputs": []
    },
    {
      "cell_type": "code",
      "source": [
        "students[1]='sunder'"
      ],
      "metadata": {
        "id": "HWPEOpjfzZsC"
      },
      "execution_count": null,
      "outputs": []
    },
    {
      "cell_type": "code",
      "source": [
        "print(students)"
      ],
      "metadata": {
        "colab": {
          "base_uri": "https://localhost:8080/"
        },
        "id": "KynFGEFLDkhx",
        "outputId": "e4bae4eb-9fd0-41db-f56e-52d81e7d9dff"
      },
      "execution_count": null,
      "outputs": [
        {
          "output_type": "stream",
          "name": "stdout",
          "text": [
            "['ema', 'sunder', 'sandeep', 'adil', 'raj', 'naveen', 'shah']\n"
          ]
        }
      ]
    },
    {
      "cell_type": "code",
      "source": [
        "# How to delete element ..?"
      ],
      "metadata": {
        "id": "chs3OwWdDkoJ"
      },
      "execution_count": null,
      "outputs": []
    },
    {
      "cell_type": "code",
      "source": [
        "del students[6]"
      ],
      "metadata": {
        "id": "y-tXSYp7Dktn"
      },
      "execution_count": null,
      "outputs": []
    },
    {
      "cell_type": "code",
      "source": [
        "print(students)"
      ],
      "metadata": {
        "colab": {
          "base_uri": "https://localhost:8080/"
        },
        "id": "jTcqMKSeDk0J",
        "outputId": "ce73e708-92ef-4f19-95b8-fe7ac74c82da"
      },
      "execution_count": null,
      "outputs": [
        {
          "output_type": "stream",
          "name": "stdout",
          "text": [
            "['ema', 'sunder', 'sandeep', 'adil', 'raj', 'naveen']\n"
          ]
        }
      ]
    },
    {
      "cell_type": "markdown",
      "source": [
        "  #  **del student[3] **           **Permanent delete** of student 3"
      ],
      "metadata": {
        "id": "YUuHJ9taFR6R"
      }
    },
    {
      "cell_type": "markdown",
      "source": [
        "**Temporary deleting====> pop method**"
      ],
      "metadata": {
        "id": "a02EBzhnGr-d"
      }
    },
    {
      "cell_type": "markdown",
      "source": [
        "Pop by defulat will be deleting the last element of the list and will be creating the corbon copy of deleted iteams to the variable assigned to it."
      ],
      "metadata": {
        "id": "uiNBvQjBHWAC"
      }
    },
    {
      "cell_type": "code",
      "source": [],
      "metadata": {
        "id": "VcRZeAOeE4dA"
      },
      "execution_count": null,
      "outputs": []
    },
    {
      "cell_type": "code",
      "source": [
        "x=students.pop()"
      ],
      "metadata": {
        "id": "Scjoqh_ZE-UU"
      },
      "execution_count": null,
      "outputs": []
    },
    {
      "cell_type": "code",
      "source": [
        "print(students)"
      ],
      "metadata": {
        "colab": {
          "base_uri": "https://localhost:8080/"
        },
        "id": "fhkkcVKoE-bd",
        "outputId": "c093aaf8-17f2-4e61-9b05-8a041eaf8631"
      },
      "execution_count": null,
      "outputs": [
        {
          "output_type": "stream",
          "name": "stdout",
          "text": [
            "['ema', 'sunder', 'sandeep', 'adil', 'raj']\n"
          ]
        }
      ]
    },
    {
      "cell_type": "code",
      "source": [
        "print(x)"
      ],
      "metadata": {
        "colab": {
          "base_uri": "https://localhost:8080/"
        },
        "id": "YtFudFKbE-h3",
        "outputId": "caaf2212-10aa-4226-f400-ce5566eb2578"
      },
      "execution_count": null,
      "outputs": [
        {
          "output_type": "stream",
          "name": "stdout",
          "text": [
            "naveen\n"
          ]
        }
      ]
    },
    {
      "cell_type": "markdown",
      "source": [
        "**interview question** what is difference **delete and pop method** in a list."
      ],
      "metadata": {
        "id": "-gwV_y3sO_61"
      }
    },
    {
      "cell_type": "code",
      "source": [],
      "metadata": {
        "id": "iQl3ekV5O6oE"
      },
      "execution_count": null,
      "outputs": []
    }
  ]
}