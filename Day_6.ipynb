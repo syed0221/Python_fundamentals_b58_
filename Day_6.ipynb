{
  "nbformat": 4,
  "nbformat_minor": 0,
  "metadata": {
    "colab": {
      "name": "Day 6.ipynb",
      "provenance": [],
      "authorship_tag": "ABX9TyMcA6QwHwNWoDp0j3Lv09mY",
      "include_colab_link": true
    },
    "kernelspec": {
      "name": "python3",
      "display_name": "Python 3"
    },
    "language_info": {
      "name": "python"
    }
  },
  "cells": [
    {
      "cell_type": "markdown",
      "metadata": {
        "id": "view-in-github",
        "colab_type": "text"
      },
      "source": [
        "<a href=\"https://colab.research.google.com/github/syed0221/Python_fundamentals_b58_/blob/main/Day_6.ipynb\" target=\"_parent\"><img src=\"https://colab.research.google.com/assets/colab-badge.svg\" alt=\"Open In Colab\"/></a>"
      ]
    },
    {
      "cell_type": "markdown",
      "source": [
        "**Introduction to looping statements :**"
      ],
      "metadata": {
        "id": "y_j8OQPqPwoS"
      }
    },
    {
      "cell_type": "code",
      "execution_count": 1,
      "metadata": {
        "id": "uBfiDWWoOP5y"
      },
      "outputs": [],
      "source": [
        "students=['kartik','naveen','faisal','hameed','laiba','pavitra']"
      ]
    },
    {
      "cell_type": "code",
      "source": [
        "print(students)"
      ],
      "metadata": {
        "colab": {
          "base_uri": "https://localhost:8080/"
        },
        "id": "EmH3fgHvOSyM",
        "outputId": "0624fba5-be75-4a4d-ceb1-ded645df7be8"
      },
      "execution_count": 2,
      "outputs": [
        {
          "output_type": "stream",
          "name": "stdout",
          "text": [
            "['kartik', 'naveen', 'faisal', 'hameed', 'laiba', 'pavitra']\n"
          ]
        }
      ]
    },
    {
      "cell_type": "code",
      "source": [
        "type(students)"
      ],
      "metadata": {
        "colab": {
          "base_uri": "https://localhost:8080/"
        },
        "id": "S3ew-yWqOS4t",
        "outputId": "b1a4337c-c270-4727-d8df-3b146a352577"
      },
      "execution_count": 3,
      "outputs": [
        {
          "output_type": "execute_result",
          "data": {
            "text/plain": [
              "list"
            ]
          },
          "metadata": {},
          "execution_count": 3
        }
      ]
    },
    {
      "cell_type": "code",
      "source": [
        "students.append('raj')"
      ],
      "metadata": {
        "id": "jaAVnmRNOS-B"
      },
      "execution_count": 4,
      "outputs": []
    },
    {
      "cell_type": "code",
      "source": [
        "print(students)"
      ],
      "metadata": {
        "colab": {
          "base_uri": "https://localhost:8080/"
        },
        "id": "K1NYlT9QOTDo",
        "outputId": "2c05f680-2012-4d90-c7c3-fd8ed17e9280"
      },
      "execution_count": 5,
      "outputs": [
        {
          "output_type": "stream",
          "name": "stdout",
          "text": [
            "['kartik', 'naveen', 'faisal', 'hameed', 'laiba', 'pavitra', 'raj']\n"
          ]
        }
      ]
    },
    {
      "cell_type": "code",
      "source": [
        "del students[6]"
      ],
      "metadata": {
        "id": "ZS8uAm9BOTL1"
      },
      "execution_count": 8,
      "outputs": []
    },
    {
      "cell_type": "code",
      "source": [
        "print(students)"
      ],
      "metadata": {
        "colab": {
          "base_uri": "https://localhost:8080/"
        },
        "id": "iECMr0q0OTVo",
        "outputId": "10799d43-a91f-48a4-e6a4-d5776afe6f0b"
      },
      "execution_count": 9,
      "outputs": [
        {
          "output_type": "stream",
          "name": "stdout",
          "text": [
            "['kartik', 'naveen', 'faisal', 'hameed', 'laiba', 'pavitra']\n"
          ]
        }
      ]
    },
    {
      "cell_type": "code",
      "source": [
        "# i want to appriciate the students.."
      ],
      "metadata": {
        "id": "1crNGhYVOTwr"
      },
      "execution_count": null,
      "outputs": []
    },
    {
      "cell_type": "code",
      "source": [
        "message=f\"keep up good work,{students[0].title()}\""
      ],
      "metadata": {
        "id": "n78-bII2OT3g"
      },
      "execution_count": 17,
      "outputs": []
    },
    {
      "cell_type": "code",
      "source": [
        "print(message)"
      ],
      "metadata": {
        "colab": {
          "base_uri": "https://localhost:8080/"
        },
        "id": "KhexImXtOUP5",
        "outputId": "3a708cf7-c6ee-4d32-a5a2-6c70284719ad"
      },
      "execution_count": 18,
      "outputs": [
        {
          "output_type": "stream",
          "name": "stdout",
          "text": [
            "keep up good work,Kartik\n"
          ]
        }
      ]
    },
    {
      "cell_type": "code",
      "source": [
        "message=f\"keep up good work,{students[1].title()}\"\n",
        "print(message)\n"
      ],
      "metadata": {
        "colab": {
          "base_uri": "https://localhost:8080/"
        },
        "id": "ee_NysbcOUU0",
        "outputId": "92b6ef57-c711-4c16-c092-4601367e070b"
      },
      "execution_count": 16,
      "outputs": [
        {
          "output_type": "stream",
          "name": "stdout",
          "text": [
            "keep up good work,Naveen\n"
          ]
        }
      ]
    },
    {
      "cell_type": "code",
      "source": [
        "message=f\"keep up good work,{students[3].title()}\"\n",
        "print(message)"
      ],
      "metadata": {
        "colab": {
          "base_uri": "https://localhost:8080/"
        },
        "id": "RjRj96eCos10",
        "outputId": "4f02e9eb-1d61-4c9b-897f-7289d93cd90a"
      },
      "execution_count": 15,
      "outputs": [
        {
          "output_type": "stream",
          "name": "stdout",
          "text": [
            "keep up good work,Hameed\n"
          ]
        }
      ]
    },
    {
      "cell_type": "code",
      "source": [
        ""
      ],
      "metadata": {
        "id": "NsnZfpi5pqqD"
      },
      "execution_count": null,
      "outputs": []
    },
    {
      "cell_type": "markdown",
      "source": [
        " Genral syntax of a **for loop** :"
      ],
      "metadata": {
        "id": "_OVywae4_nu4"
      }
    },
    {
      "cell_type": "code",
      "source": [
        "# formula of for loop :\n",
        "for tempvar in mainvar :\n",
        "    print(tempvar)"
      ],
      "metadata": {
        "id": "LZEmBTGapqxI"
      },
      "execution_count": null,
      "outputs": []
    },
    {
      "cell_type": "code",
      "source": [
        "for x in students :\n",
        "    print(f\"keep up good work,{x.title()}\")"
      ],
      "metadata": {
        "colab": {
          "base_uri": "https://localhost:8080/"
        },
        "id": "NUvct3sIpq4Q",
        "outputId": "a6132a17-b767-4bf1-c8ee-0b589d9c92f0"
      },
      "execution_count": 23,
      "outputs": [
        {
          "output_type": "stream",
          "name": "stdout",
          "text": [
            "keep up good work,Kartik\n",
            "keep up good work,Naveen\n",
            "keep up good work,Faisal\n",
            "keep up good work,Hameed\n",
            "keep up good work,Laiba\n",
            "keep up good work,Pavitra\n"
          ]
        }
      ]
    },
    {
      "cell_type": "code",
      "source": [
        "for a in students :\n",
        "    print(a)"
      ],
      "metadata": {
        "colab": {
          "base_uri": "https://localhost:8080/"
        },
        "id": "sHb8Jih1prE2",
        "outputId": "1c3c465e-52ec-4b54-d13a-aa35a234c18a"
      },
      "execution_count": 24,
      "outputs": [
        {
          "output_type": "stream",
          "name": "stdout",
          "text": [
            "kartik\n",
            "naveen\n",
            "faisal\n",
            "hameed\n",
            "laiba\n",
            "pavitra\n"
          ]
        }
      ]
    },
    {
      "cell_type": "code",
      "source": [
        "for a in students:   # identation\n",
        "print(a)"
      ],
      "metadata": {
        "colab": {
          "base_uri": "https://localhost:8080/",
          "height": 130
        },
        "id": "bmZurg3kprKN",
        "outputId": "904793d6-7680-47e0-df82-ed79a22985f8"
      },
      "execution_count": 25,
      "outputs": [
        {
          "output_type": "error",
          "ename": "IndentationError",
          "evalue": "ignored",
          "traceback": [
            "\u001b[0;36m  File \u001b[0;32m\"<ipython-input-25-bd838e5305cf>\"\u001b[0;36m, line \u001b[0;32m2\u001b[0m\n\u001b[0;31m    print(a)\u001b[0m\n\u001b[0m        ^\u001b[0m\n\u001b[0;31mIndentationError\u001b[0m\u001b[0;31m:\u001b[0m expected an indented block\n"
          ]
        }
      ]
    },
    {
      "cell_type": "code",
      "source": [
        "# req : Looking forward for todays githup practice URL"
      ],
      "metadata": {
        "id": "LfZqEFkxpTdX"
      },
      "execution_count": null,
      "outputs": []
    },
    {
      "cell_type": "code",
      "source": [
        "for x in students :\n",
        "    print(f\"keep up good work,{x.title()}\")\n",
        "    print(f\"looking forward for todays github practice URL,{x.title()}\")"
      ],
      "metadata": {
        "colab": {
          "base_uri": "https://localhost:8080/"
        },
        "id": "qbE4KN1FJkuG",
        "outputId": "369add9a-68d6-4469-c29f-4d543477ebe2"
      },
      "execution_count": 28,
      "outputs": [
        {
          "output_type": "stream",
          "name": "stdout",
          "text": [
            "keep up good work,Kartik\n",
            "looking forward for todays github practice URL,Kartik\n",
            "keep up good work,Naveen\n",
            "looking forward for todays github practice URL,Naveen\n",
            "keep up good work,Faisal\n",
            "looking forward for todays github practice URL,Faisal\n",
            "keep up good work,Hameed\n",
            "looking forward for todays github practice URL,Hameed\n",
            "keep up good work,Laiba\n",
            "looking forward for todays github practice URL,Laiba\n",
            "keep up good work,Pavitra\n",
            "looking forward for todays github practice URL,Pavitra\n"
          ]
        }
      ]
    },
    {
      "cell_type": "code",
      "source": [
        " for x in students :\n",
        "     print(f\"keep up good work,{x.title()}\")\n",
        "     print(f\"looking forward for todays github practice URL,{x.title()}\\n\")      #\\n ====>new line delimiter"
      ],
      "metadata": {
        "colab": {
          "base_uri": "https://localhost:8080/"
        },
        "id": "INpIewAFJk6h",
        "outputId": "5188924f-ad77-4690-8ba6-1bd42971fb12"
      },
      "execution_count": 32,
      "outputs": [
        {
          "output_type": "stream",
          "name": "stdout",
          "text": [
            "keep up good work,Kartik\n",
            "looking forward for todays github practice URL,Kartik\n",
            "\n",
            "keep up good work,Naveen\n",
            "looking forward for todays github practice URL,Naveen\n",
            "\n",
            "keep up good work,Faisal\n",
            "looking forward for todays github practice URL,Faisal\n",
            "\n",
            "keep up good work,Hameed\n",
            "looking forward for todays github practice URL,Hameed\n",
            "\n",
            "keep up good work,Laiba\n",
            "looking forward for todays github practice URL,Laiba\n",
            "\n",
            "keep up good work,Pavitra\n",
            "looking forward for todays github practice URL,Pavitra\n",
            "\n"
          ]
        }
      ]
    },
    {
      "cell_type": "code",
      "source": [
        "for x in students :\n",
        "    print(f\"keep up good work,{x.title()}\")\n",
        "    print(f\"looking forward for todays github practice URL,{x.title()}\")    # writing in Loop\n",
        "print(\"Thank you all for joining the session\")                              # writing out of the Loop\n"
      ],
      "metadata": {
        "colab": {
          "base_uri": "https://localhost:8080/"
        },
        "id": "_pXH3GCCJlFs",
        "outputId": "f2e2c2f2-eed3-4fde-f44e-5b5bcffb7877"
      },
      "execution_count": 36,
      "outputs": [
        {
          "output_type": "stream",
          "name": "stdout",
          "text": [
            "keep up good work,Kartik\n",
            "looking forward for todays github practice URL,Kartik\n",
            "keep up good work,Naveen\n",
            "looking forward for todays github practice URL,Naveen\n",
            "keep up good work,Faisal\n",
            "looking forward for todays github practice URL,Faisal\n",
            "keep up good work,Hameed\n",
            "looking forward for todays github practice URL,Hameed\n",
            "keep up good work,Laiba\n",
            "looking forward for todays github practice URL,Laiba\n",
            "keep up good work,Pavitra\n",
            "looking forward for todays github practice URL,Pavitra\n",
            "Thank you all for joining the session\n"
          ]
        }
      ]
    },
    {
      "cell_type": "code",
      "source": [
        ""
      ],
      "metadata": {
        "id": "9ToWq45AM4zy"
      },
      "execution_count": null,
      "outputs": []
    }
  ]
}