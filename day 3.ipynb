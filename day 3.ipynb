{
  "nbformat": 4,
  "nbformat_minor": 0,
  "metadata": {
    "colab": {
      "name": "Untitled1.ipynb",
      "provenance": [],
      "collapsed_sections": [],
      "authorship_tag": "ABX9TyNvSrbieoj+YoZ8XH2JVf23",
      "include_colab_link": true
    },
    "kernelspec": {
      "name": "python3",
      "display_name": "Python 3"
    },
    "language_info": {
      "name": "python"
    }
  },
  "cells": [
    {
      "cell_type": "markdown",
      "metadata": {
        "id": "view-in-github",
        "colab_type": "text"
      },
      "source": [
        "<a href=\"https://colab.research.google.com/github/syed0221/Python_fundamentals_b58_/blob/main/day%203.ipynb\" target=\"_parent\"><img src=\"https://colab.research.google.com/assets/colab-badge.svg\" alt=\"Open In Colab\"/></a>"
      ]
    },
    {
      "cell_type": "markdown",
      "source": [
        "continution to string :"
      ],
      "metadata": {
        "id": "MUWDybdW4K7W"
      }
    },
    {
      "cell_type": "code",
      "source": [
        "full_name = 'david miller'\n",
        "\n",
        "print (full_name)"
      ],
      "metadata": {
        "colab": {
          "base_uri": "https://localhost:8080/"
        },
        "id": "keR_8eeV4qe6",
        "outputId": "eed6bf19-e2c9-487d-9af2-8b0b17a10e8d"
      },
      "execution_count": 2,
      "outputs": [
        {
          "output_type": "stream",
          "name": "stdout",
          "text": [
            "david miller\n"
          ]
        }
      ]
    },
    {
      "cell_type": "code",
      "source": [
        "print(full_name.title())"
      ],
      "metadata": {
        "colab": {
          "base_uri": "https://localhost:8080/"
        },
        "id": "wZq2yGJL5ZCg",
        "outputId": "79234828-5d3a-4f85-e03f-c70a9f0b3b0a"
      },
      "execution_count": 4,
      "outputs": [
        {
          "output_type": "stream",
          "name": "stdout",
          "text": [
            "David Miller\n"
          ]
        }
      ]
    },
    {
      "cell_type": "code",
      "source": [
        "print(full_name.upper())\n"
      ],
      "metadata": {
        "colab": {
          "base_uri": "https://localhost:8080/"
        },
        "id": "QihYAHYs6us_",
        "outputId": "ae287bc8-bf44-4ece-b32b-bf117c7a7e94"
      },
      "execution_count": 5,
      "outputs": [
        {
          "output_type": "stream",
          "name": "stdout",
          "text": [
            "DAVID MILLER\n"
          ]
        }
      ]
    },
    {
      "cell_type": "code",
      "source": [
        "print(full_name.lower())"
      ],
      "metadata": {
        "colab": {
          "base_uri": "https://localhost:8080/"
        },
        "id": "oWFFeCNS7Vdh",
        "outputId": "678c2a1b-db61-449c-b7c2-8e5371493151"
      },
      "execution_count": 6,
      "outputs": [
        {
          "output_type": "stream",
          "name": "stdout",
          "text": [
            "david miller\n"
          ]
        }
      ]
    },
    {
      "cell_type": "markdown",
      "source": [
        "# **Introduction to f string**\n"
      ],
      "metadata": {
        "id": "YEQRLDob8G8W"
      }
    },
    {
      "cell_type": "markdown",
      "source": [
        "**f \" custom words {place holder 1} {place holder 2}----{placeholders}**"
      ],
      "metadata": {
        "id": "OGg2E5t_BUBK"
      }
    },
    {
      "cell_type": "code",
      "source": [
        "frist_name = 'david'\n",
        "last_name = 'miller'"
      ],
      "metadata": {
        "id": "uqPf4GCdBSCS"
      },
      "execution_count": 11,
      "outputs": []
    },
    {
      "cell_type": "markdown",
      "source": [
        "req : i want to get full name"
      ],
      "metadata": {
        "id": "2qLpUuXSFGWH"
      }
    },
    {
      "cell_type": "code",
      "source": [
        "full_name = f\"{frist_name} {last_name}\"\n",
        "print(full_name)"
      ],
      "metadata": {
        "colab": {
          "base_uri": "https://localhost:8080/"
        },
        "id": "i2-WVXQA7rJ6",
        "outputId": "28104a05-fb04-4532-b44a-b333e536f44f"
      },
      "execution_count": 14,
      "outputs": [
        {
          "output_type": "stream",
          "name": "stdout",
          "text": [
            "david miller\n"
          ]
        }
      ]
    },
    {
      "cell_type": "code",
      "source": [
        "print(full_name.title())"
      ],
      "metadata": {
        "colab": {
          "base_uri": "https://localhost:8080/"
        },
        "id": "fB3SnFf3HJBW",
        "outputId": "7f26d57d-617e-4742-e9f4-db542b7e0fc4"
      },
      "execution_count": 15,
      "outputs": [
        {
          "output_type": "stream",
          "name": "stdout",
          "text": [
            "David Miller\n"
          ]
        }
      ]
    },
    {
      "cell_type": "code",
      "source": [
        "message = f\"keep it up,{frist_name} {last_name}\"\n",
        "print(message.title())"
      ],
      "metadata": {
        "colab": {
          "base_uri": "https://localhost:8080/"
        },
        "id": "xbw3SwncHtFE",
        "outputId": "0b2dac27-4db3-4823-a951-778319ea39a7"
      },
      "execution_count": 16,
      "outputs": [
        {
          "output_type": "stream",
          "name": "stdout",
          "text": [
            "Keep It Up,David Miller\n"
          ]
        }
      ]
    },
    {
      "cell_type": "code",
      "source": [
        ""
      ],
      "metadata": {
        "id": "e0KJcgVqI5Ue"
      },
      "execution_count": null,
      "outputs": []
    }
  ]
}