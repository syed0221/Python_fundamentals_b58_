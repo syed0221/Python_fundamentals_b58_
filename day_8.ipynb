{
  "nbformat": 4,
  "nbformat_minor": 0,
  "metadata": {
    "colab": {
      "name": "day 8.ipynb",
      "provenance": [],
      "authorship_tag": "ABX9TyOM1J6v5g7bCTJ8ayM32Rdz",
      "include_colab_link": true
    },
    "kernelspec": {
      "name": "python3",
      "display_name": "Python 3"
    },
    "language_info": {
      "name": "python"
    }
  },
  "cells": [
    {
      "cell_type": "markdown",
      "metadata": {
        "id": "view-in-github",
        "colab_type": "text"
      },
      "source": [
        "<a href=\"https://colab.research.google.com/github/syed0221/Python_fundamentals_b58_/blob/main/day_8.ipynb\" target=\"_parent\"><img src=\"https://colab.research.google.com/assets/colab-badge.svg\" alt=\"Open In Colab\"/></a>"
      ]
    },
    {
      "cell_type": "markdown",
      "source": [
        "**Introduction to Dictionaries :**\\\n",
        "A dictionary is  a combination of key values pairs.it is classified as mutable datatype.\\\n",
        "Symbol : {} \\\n",
        "shortform : dict\\\n",
        "very important : for interview and extensively used datatype"
      ],
      "metadata": {
        "id": "pzPOQKFGcboB"
      }
    },
    {
      "cell_type": "code",
      "execution_count": null,
      "metadata": {
        "id": "wgU-imZpcOUP"
      },
      "outputs": [],
      "source": [
        ""
      ]
    },
    {
      "cell_type": "code",
      "source": [
        "alien = {'color':'green','points':5}\n",
        "print(alien)"
      ],
      "metadata": {
        "colab": {
          "base_uri": "https://localhost:8080/"
        },
        "id": "bNbUx_mVfL58",
        "outputId": "27a1a38d-8e14-443f-c5ec-5dae71bfcf89"
      },
      "execution_count": 1,
      "outputs": [
        {
          "output_type": "stream",
          "name": "stdout",
          "text": [
            "{'color': 'green', 'points': 5}\n"
          ]
        }
      ]
    },
    {
      "cell_type": "code",
      "source": [
        "type(alien)"
      ],
      "metadata": {
        "colab": {
          "base_uri": "https://localhost:8080/"
        },
        "id": "Y8ZZx9rrfMCe",
        "outputId": "5d1de6e3-42c8-4873-891c-ba4bdbf197cf"
      },
      "execution_count": 2,
      "outputs": [
        {
          "output_type": "execute_result",
          "data": {
            "text/plain": [
              "dict"
            ]
          },
          "metadata": {},
          "execution_count": 2
        }
      ]
    },
    {
      "cell_type": "code",
      "source": [
        "# how to access the key values pairs in a dict?"
      ],
      "metadata": {
        "id": "oqBm_6DxfMPl"
      },
      "execution_count": null,
      "outputs": []
    },
    {
      "cell_type": "code",
      "source": [
        "# i want to know the color of alien?"
      ],
      "metadata": {
        "id": "iLTt7mrnhHJC"
      },
      "execution_count": null,
      "outputs": []
    },
    {
      "cell_type": "code",
      "source": [
        "print(alien['color'])"
      ],
      "metadata": {
        "colab": {
          "base_uri": "https://localhost:8080/"
        },
        "id": "xgsXt8S3hHO_",
        "outputId": "3fa3ad8a-1c46-41f6-8735-b1933d1a3f9e"
      },
      "execution_count": 3,
      "outputs": [
        {
          "output_type": "stream",
          "name": "stdout",
          "text": [
            "green\n"
          ]
        }
      ]
    },
    {
      "cell_type": "code",
      "source": [
        "# give the key and get the value."
      ],
      "metadata": {
        "id": "F95vHiO2hHVo"
      },
      "execution_count": null,
      "outputs": []
    },
    {
      "cell_type": "code",
      "source": [
        "print(alien['points'])"
      ],
      "metadata": {
        "colab": {
          "base_uri": "https://localhost:8080/"
        },
        "id": "zkLtADTffMVL",
        "outputId": "7199532c-688a-4d8e-82a1-e2fbeccc8210"
      },
      "execution_count": 4,
      "outputs": [
        {
          "output_type": "stream",
          "name": "stdout",
          "text": [
            "5\n"
          ]
        }
      ]
    },
    {
      "cell_type": "code",
      "source": [
        "# can we give the value and the key ?  # no"
      ],
      "metadata": {
        "id": "5EFhFswIfM72"
      },
      "execution_count": null,
      "outputs": []
    },
    {
      "cell_type": "code",
      "source": [
        "print(alien['green'])"
      ],
      "metadata": {
        "colab": {
          "base_uri": "https://localhost:8080/",
          "height": 165
        },
        "id": "hGUxD1QZfNBN",
        "outputId": "4d48e2fb-a56c-40fc-b803-a69c30402b26"
      },
      "execution_count": 5,
      "outputs": [
        {
          "output_type": "error",
          "ename": "KeyError",
          "evalue": "ignored",
          "traceback": [
            "\u001b[0;31m---------------------------------------------------------------------------\u001b[0m",
            "\u001b[0;31mKeyError\u001b[0m                                  Traceback (most recent call last)",
            "\u001b[0;32m<ipython-input-5-7aa8df162af6>\u001b[0m in \u001b[0;36m<module>\u001b[0;34m()\u001b[0m\n\u001b[0;32m----> 1\u001b[0;31m \u001b[0mprint\u001b[0m\u001b[0;34m(\u001b[0m\u001b[0malien\u001b[0m\u001b[0;34m[\u001b[0m\u001b[0;34m'green'\u001b[0m\u001b[0;34m]\u001b[0m\u001b[0;34m)\u001b[0m\u001b[0;34m\u001b[0m\u001b[0;34m\u001b[0m\u001b[0m\n\u001b[0m",
            "\u001b[0;31mKeyError\u001b[0m: 'green'"
          ]
        }
      ]
    },
    {
      "cell_type": "code",
      "source": [
        "# how to add new key value pairs to the dict ?"
      ],
      "metadata": {
        "id": "_5xtURGZi5BO"
      },
      "execution_count": null,
      "outputs": []
    },
    {
      "cell_type": "code",
      "source": [
        "print(alien)"
      ],
      "metadata": {
        "colab": {
          "base_uri": "https://localhost:8080/"
        },
        "id": "aHgx4cGkkIQB",
        "outputId": "9118bb28-6b0c-4875-8c72-fdfa16605129"
      },
      "execution_count": 6,
      "outputs": [
        {
          "output_type": "stream",
          "name": "stdout",
          "text": [
            "{'color': 'green', 'points': 5}\n"
          ]
        }
      ]
    },
    {
      "cell_type": "code",
      "source": [
        "# req : to add start_position : 0"
      ],
      "metadata": {
        "id": "BXFY0n9YkIWA"
      },
      "execution_count": null,
      "outputs": []
    },
    {
      "cell_type": "code",
      "source": [
        "alien['start_position'] = 0"
      ],
      "metadata": {
        "id": "xmngQFt3kIlf"
      },
      "execution_count": 7,
      "outputs": []
    },
    {
      "cell_type": "code",
      "source": [
        "print(alien)"
      ],
      "metadata": {
        "colab": {
          "base_uri": "https://localhost:8080/"
        },
        "id": "ToagOYknkJEQ",
        "outputId": "eecc5e2d-21d1-437a-f427-1d60ec072371"
      },
      "execution_count": 8,
      "outputs": [
        {
          "output_type": "stream",
          "name": "stdout",
          "text": [
            "{'color': 'green', 'points': 5, 'start_position': 0}\n"
          ]
        }
      ]
    },
    {
      "cell_type": "code",
      "source": [
        "# to change the color to yellow"
      ],
      "metadata": {
        "id": "1XRxpleokJJE"
      },
      "execution_count": null,
      "outputs": []
    },
    {
      "cell_type": "code",
      "source": [
        "alien['color'] = 'yellow'"
      ],
      "metadata": {
        "id": "aCbzbTKIlxcA"
      },
      "execution_count": 9,
      "outputs": []
    },
    {
      "cell_type": "code",
      "source": [
        "print(alien)"
      ],
      "metadata": {
        "colab": {
          "base_uri": "https://localhost:8080/"
        },
        "id": "IIktBJJDlxiB",
        "outputId": "f3d8a2a0-49b4-4422-f9e0-e59d6b02d692"
      },
      "execution_count": 10,
      "outputs": [
        {
          "output_type": "stream",
          "name": "stdout",
          "text": [
            "{'color': 'yellow', 'points': 5, 'start_position': 0}\n"
          ]
        }
      ]
    },
    {
      "cell_type": "code",
      "source": [
        "# how to delete the key key value pairs ?"
      ],
      "metadata": {
        "id": "l3fygpITlxod"
      },
      "execution_count": null,
      "outputs": []
    },
    {
      "cell_type": "code",
      "source": [
        "# req : to delete the ponts "
      ],
      "metadata": {
        "id": "Ml2V3JWmmrYr"
      },
      "execution_count": null,
      "outputs": []
    },
    {
      "cell_type": "code",
      "source": [
        "del alien['points']"
      ],
      "metadata": {
        "id": "RuTxsovbmrfr"
      },
      "execution_count": 11,
      "outputs": []
    },
    {
      "cell_type": "code",
      "source": [
        "print(alien)"
      ],
      "metadata": {
        "colab": {
          "base_uri": "https://localhost:8080/"
        },
        "id": "NUM4fxZ6mrnl",
        "outputId": "15aef288-4b71-4cb9-c8f9-1118f99aa1f0"
      },
      "execution_count": 12,
      "outputs": [
        {
          "output_type": "stream",
          "name": "stdout",
          "text": [
            "{'color': 'yellow', 'start_position': 0}\n"
          ]
        }
      ]
    },
    {
      "cell_type": "code",
      "source": [
        ""
      ],
      "metadata": {
        "id": "BRthFDc6mr0k"
      },
      "execution_count": null,
      "outputs": []
    },
    {
      "cell_type": "code",
      "source": [
        "# req : create an account in instagram :"
      ],
      "metadata": {
        "id": "Z8KFizEYnato"
      },
      "execution_count": null,
      "outputs": []
    },
    {
      "cell_type": "code",
      "source": [
        "useraccount ={'username':'codetrainingacademy','fristname':'code','lastname':'training','dob':'01-01-2020','pwd':'12345'}"
      ],
      "metadata": {
        "id": "9JsMiEjTnazG"
      },
      "execution_count": 13,
      "outputs": []
    },
    {
      "cell_type": "code",
      "source": [
        "print(useraccount)"
      ],
      "metadata": {
        "colab": {
          "base_uri": "https://localhost:8080/"
        },
        "id": "LPfgmHRCna5g",
        "outputId": "79395284-4f88-454d-a919-9d3aba1cce1e"
      },
      "execution_count": 14,
      "outputs": [
        {
          "output_type": "stream",
          "name": "stdout",
          "text": [
            "{'username': 'codetrainingacademy', 'fristname': 'code', 'lastname': 'training', 'dob': '01-01-2020', 'pwd': '12345'}\n"
          ]
        }
      ]
    },
    {
      "cell_type": "code",
      "source": [
        "useraccount['statusupdate']= 'farzi cafe'"
      ],
      "metadata": {
        "id": "T6tb6oQ_nbBo"
      },
      "execution_count": 15,
      "outputs": []
    },
    {
      "cell_type": "code",
      "source": [
        "print(useraccount)"
      ],
      "metadata": {
        "colab": {
          "base_uri": "https://localhost:8080/"
        },
        "id": "RxTpY45np9Bi",
        "outputId": "6e957f45-4d6a-4470-e5b8-a4ec3a2793a3"
      },
      "execution_count": 16,
      "outputs": [
        {
          "output_type": "stream",
          "name": "stdout",
          "text": [
            "{'username': 'codetrainingacademy', 'fristname': 'code', 'lastname': 'training', 'dob': '01-01-2020', 'pwd': '12345', 'statusupdate': 'farzi cafe'}\n"
          ]
        }
      ]
    },
    {
      "cell_type": "code",
      "source": [
        ""
      ],
      "metadata": {
        "id": "GXlwmm6uqBug"
      },
      "execution_count": null,
      "outputs": []
    }
  ]
}