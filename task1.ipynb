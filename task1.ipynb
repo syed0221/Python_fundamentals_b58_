{
  "nbformat": 4,
  "nbformat_minor": 0,
  "metadata": {
    "colab": {
      "name": "Untitled0.ipynb",
      "provenance": [],
      "authorship_tag": "ABX9TyMjTN33zsDOkCnPM18yEOdu",
      "include_colab_link": true
    },
    "kernelspec": {
      "name": "python3",
      "display_name": "Python 3"
    },
    "language_info": {
      "name": "python"
    }
  },
  "cells": [
    {
      "cell_type": "markdown",
      "metadata": {
        "id": "view-in-github",
        "colab_type": "text"
      },
      "source": [
        "<a href=\"https://colab.research.google.com/github/syed0221/Python_fundamentals_b58_/blob/main/task1.ipynb\" target=\"_parent\"><img src=\"https://colab.research.google.com/assets/colab-badge.svg\" alt=\"Open In Colab\"/></a>"
      ]
    },
    {
      "cell_type": "markdown",
      "source": [
        "**Ptython Fundamentals b_58**\n",
        "Syed Rizwan Mahmood\n",
        "syed0221@gmail.com\n",
        "Sales & Marketing professional with eight years experience having no perior coding expertise.To inhance my skills i am jioning these sessions of python fundamentals."
      ],
      "metadata": {
        "id": "7k50QMUhfYXu"
      }
    },
    {
      "cell_type": "code",
      "source": [
        "print(\"Day 1 task\")"
      ],
      "metadata": {
        "colab": {
          "base_uri": "https://localhost:8080/"
        },
        "id": "pN-S9nPSk4RI",
        "outputId": "9f63071b-efa0-4302-eb1c-6e9479b3ac00"
      },
      "execution_count": 11,
      "outputs": [
        {
          "output_type": "stream",
          "name": "stdout",
          "text": [
            "Day 1 task\n"
          ]
        }
      ]
    },
    {
      "cell_type": "code",
      "source": [
        ""
      ],
      "metadata": {
        "id": "ObuC_psWlMju"
      },
      "execution_count": null,
      "outputs": []
    }
  ]
}